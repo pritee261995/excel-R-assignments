{
 "cells": [
  {
   "cell_type": "markdown",
   "id": "f9b1cbc6",
   "metadata": {},
   "source": [
    "# Q 1 A F&B manager wants to determine whether there is any significant difference in the diameter of the cutlet between two units. A randomly selected sample of cutlets was collected from both units and measured? Analyze the data and draw inferences at 5% significance level. Please state the assumptions and tests that you carried out to check validity of the assumptions.\n"
   ]
  },
  {
   "cell_type": "code",
   "execution_count": 1,
   "id": "90abb67a",
   "metadata": {},
   "outputs": [],
   "source": [
    "import pandas as pd\n",
    "from scipy.stats import shapiro\n",
    "from scipy.stats import levene\n",
    "from scipy.stats import ttest_ind"
   ]
  },
  {
   "cell_type": "code",
   "execution_count": 2,
   "id": "0afe55de",
   "metadata": {},
   "outputs": [],
   "source": [
    "data = pd.read_csv(\"C:\\\\Users\\\\Pritee\\\\OneDrive\\\\Documents\\\\data science assignments\\\\assignments\\\\Hypothesis texting\\\\Cutlets.csv\")\n",
    "unit1 = data['Unit A']\n",
    "unit2 = data['Unit B']"
   ]
  },
  {
   "cell_type": "code",
   "execution_count": null,
   "id": "890f834d",
   "metadata": {},
   "outputs": [],
   "source": [
    "#a. Check for Normality using the Shapiro-Wilk test."
   ]
  },
  {
   "cell_type": "code",
   "execution_count": 3,
   "id": "4387ffe4",
   "metadata": {},
   "outputs": [
    {
     "name": "stdout",
     "output_type": "stream",
     "text": [
      "Unit A data appears to be normally distributed.\n"
     ]
    }
   ],
   "source": [
    "stat, p_value = shapiro(unit1)\n",
    "if p_value > 0.05:\n",
    "    print(\"Unit A data appears to be normally distributed.\")\n",
    "else:\n",
    "    print(\"Unit A data does not appear to be normally distributed.\")\n"
   ]
  },
  {
   "cell_type": "code",
   "execution_count": 4,
   "id": "200c6792",
   "metadata": {},
   "outputs": [
    {
     "name": "stdout",
     "output_type": "stream",
     "text": [
      "Unit B data appears to be normally distributed.\n"
     ]
    }
   ],
   "source": [
    "stat, p_value = shapiro(unit2)\n",
    "if p_value > 0.05:\n",
    "    print(\"Unit B data appears to be normally distributed.\")\n",
    "else:\n",
    "    print(\"Unit B data does not appear to be normally distributed.\")"
   ]
  },
  {
   "cell_type": "code",
   "execution_count": null,
   "id": "73de0137",
   "metadata": {},
   "outputs": [],
   "source": [
    "#b. Check for Equal Variance using Levene's test."
   ]
  },
  {
   "cell_type": "code",
   "execution_count": 5,
   "id": "f67ef14e",
   "metadata": {},
   "outputs": [
    {
     "name": "stdout",
     "output_type": "stream",
     "text": [
      "The variances of Unit A and Unit B are equal.\n"
     ]
    }
   ],
   "source": [
    "stat, p_value = levene(unit1, unit2)\n",
    "if p_value > 0.05:\n",
    "    print(\"The variances of Unit A and Unit B are equal.\")\n",
    "else:\n",
    "    print(\"The variances of Unit A and Unit B are not equal.\")"
   ]
  },
  {
   "cell_type": "code",
   "execution_count": null,
   "id": "82fa28e2",
   "metadata": {},
   "outputs": [],
   "source": [
    "#Hypothesis Test (Independent Samples t-test)"
   ]
  },
  {
   "cell_type": "code",
   "execution_count": 6,
   "id": "7c589dd9",
   "metadata": {},
   "outputs": [
    {
     "name": "stdout",
     "output_type": "stream",
     "text": [
      "Fail to reject the null hypothesis. There is no significant difference in the diameter of the cutlets between Unit A and Unit B.\n"
     ]
    }
   ],
   "source": [
    "t_stat, p_value = ttest_ind(unit1, unit2)\n",
    "alpha = 0.05\n",
    "\n",
    "if p_value < alpha:\n",
    "    print(\"Reject the null hypothesis. There is a significant difference in the diameter of the cutlets between Unit A and Unit B.\")\n",
    "else:\n",
    "    print(\"Fail to reject the null hypothesis. There is no significant difference in the diameter of the cutlets between Unit A and Unit B.\")"
   ]
  },
  {
   "cell_type": "code",
   "execution_count": null,
   "id": "6f73d2f4",
   "metadata": {},
   "outputs": [],
   "source": [
    "#There is no significant difference in the diameter of the cutlets between Unit A and Unit B "
   ]
  },
  {
   "cell_type": "code",
   "execution_count": null,
   "id": "67865df9",
   "metadata": {},
   "outputs": [],
   "source": []
  },
  {
   "cell_type": "code",
   "execution_count": null,
   "id": "06b894b6",
   "metadata": {},
   "outputs": [],
   "source": []
  }
 ],
 "metadata": {
  "kernelspec": {
   "display_name": "Python 3 (ipykernel)",
   "language": "python",
   "name": "python3"
  },
  "language_info": {
   "codemirror_mode": {
    "name": "ipython",
    "version": 3
   },
   "file_extension": ".py",
   "mimetype": "text/x-python",
   "name": "python",
   "nbconvert_exporter": "python",
   "pygments_lexer": "ipython3",
   "version": "3.11.5"
  }
 },
 "nbformat": 4,
 "nbformat_minor": 5
}
