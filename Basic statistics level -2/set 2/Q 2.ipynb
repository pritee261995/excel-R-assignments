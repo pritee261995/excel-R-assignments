{
 "cells": [
  {
   "cell_type": "markdown",
   "id": "23bb3c07",
   "metadata": {},
   "source": [
    "# 2.\tThe current age (in years) of 400 clerical employees at an insurance claims processing center is normally distributed with mean  = 38 and Standard deviation  =6. For each statement below, please specify True/False. If false, briefly explain why.\n",
    "A.\tMore employees at the processing center are older than 44 than between 38 and 44.\n",
    "B.\tA training program for employees under the age of 30 at the center would be expected to attract about 36 employees.\n"
   ]
  },
  {
   "cell_type": "code",
   "execution_count": 1,
   "id": "26ff033e",
   "metadata": {},
   "outputs": [],
   "source": [
    "import scipy.stats as stats"
   ]
  },
  {
   "cell_type": "code",
   "execution_count": 2,
   "id": "00111a70",
   "metadata": {},
   "outputs": [],
   "source": [
    "# Given parameters\n",
    "mean = 38\n",
    "std_deviation = 6\n",
    "total_employees = 400"
   ]
  },
  {
   "cell_type": "code",
   "execution_count": 3,
   "id": "0f05e1e7",
   "metadata": {},
   "outputs": [
    {
     "name": "stdout",
     "output_type": "stream",
     "text": [
      "A. Probability that an employee is older than 44: 0.15865525393145707\n"
     ]
    }
   ],
   "source": [
    "# A. Probability that an employee is older than 44\n",
    "z_score_44 = (44 - mean) / std_deviation\n",
    "prob_older_than_44 = 1 - stats.norm.cdf(z_score_44)\n",
    "print(\"A. Probability that an employee is older than 44:\", prob_older_than_44)"
   ]
  },
  {
   "cell_type": "code",
   "execution_count": 13,
   "id": "e3f8243b",
   "metadata": {},
   "outputs": [
    {
     "name": "stdout",
     "output_type": "stream",
     "text": [
      "0.09121121972586788\n"
     ]
    }
   ],
   "source": [
    "# B. Probability that an employee is under 30\n",
    "\n",
    "mean = 38\n",
    "standard_deviation = 6\n",
    "probability = stats.norm.cdf(30, mean, standard_deviation)\n",
    "\n",
    "print(probability)\n"
   ]
  },
  {
   "cell_type": "code",
   "execution_count": 9,
   "id": "93ee94db",
   "metadata": {},
   "outputs": [],
   "source": [
    "# Calculate the number of employees for each case"
   ]
  },
  {
   "cell_type": "code",
   "execution_count": 8,
   "id": "a6ee5381",
   "metadata": {},
   "outputs": [],
   "source": [
    "#Employees between 38 to 44 yrs of age"
   ]
  },
  {
   "cell_type": "code",
   "execution_count": 6,
   "id": "118c8fd2",
   "metadata": {},
   "outputs": [
    {
     "name": "stdout",
     "output_type": "stream",
     "text": [
      "Number of employees between 38 and 44: 336.5378984274172\n"
     ]
    }
   ],
   "source": [
    "num_employees_between_38_and_44 = total_employees * (1 - prob_older_than_44)\n",
    "print(\"Number of employees between 38 and 44:\", num_employees_between_38_and_44)"
   ]
  },
  {
   "cell_type": "code",
   "execution_count": 11,
   "id": "2f2ad6f7",
   "metadata": {},
   "outputs": [],
   "source": [
    "#Employees under 30 yrs of age"
   ]
  },
  {
   "cell_type": "code",
   "execution_count": 7,
   "id": "3f7c582d",
   "metadata": {},
   "outputs": [
    {
     "name": "stdout",
     "output_type": "stream",
     "text": [
      "Number of employees under 30: 36.484487890347154\n"
     ]
    }
   ],
   "source": [
    "num_employees_under_30 = total_employees * prob_under_30\n",
    "print(\"Number of employees under 30:\", num_employees_under_30)"
   ]
  },
  {
   "cell_type": "code",
   "execution_count": null,
   "id": "5c754344",
   "metadata": {},
   "outputs": [],
   "source": []
  }
 ],
 "metadata": {
  "kernelspec": {
   "display_name": "Python 3 (ipykernel)",
   "language": "python",
   "name": "python3"
  },
  "language_info": {
   "codemirror_mode": {
    "name": "ipython",
    "version": 3
   },
   "file_extension": ".py",
   "mimetype": "text/x-python",
   "name": "python",
   "nbconvert_exporter": "python",
   "pygments_lexer": "ipython3",
   "version": "3.11.5"
  }
 },
 "nbformat": 4,
 "nbformat_minor": 5
}
