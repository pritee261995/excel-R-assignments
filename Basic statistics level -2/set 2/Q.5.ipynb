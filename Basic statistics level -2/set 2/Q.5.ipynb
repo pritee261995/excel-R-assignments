{
 "cells": [
  {
   "cell_type": "markdown",
   "id": "99e260a3",
   "metadata": {},
   "source": [
    "# 5.\tConsider a company that has two different divisions. The annual profits from the two divisions are independent and have distributions Profit1 ~ N(5, 32) and Profit2 ~ N(7, 42) respectively. Both the profits are in $ Million. Answer the following questions about the total profit of the company in Rupees. Assume that $1 = Rs. 45\n",
    "A.\tSpecify a Rupee range (centered on the mean) such that it contains 95% probability for the annual profit of the company.\n",
    "B.\tSpecify the 5th percentile of profit (in Rupees) for the company\n",
    "C.\tWhich of the two divisions has a larger probability of making a loss in a given year?\n"
   ]
  },
  {
   "cell_type": "code",
   "execution_count": 1,
   "id": "4fc8b22a",
   "metadata": {},
   "outputs": [],
   "source": [
    "import scipy.stats as stats"
   ]
  },
  {
   "cell_type": "code",
   "execution_count": 2,
   "id": "1c710d67",
   "metadata": {},
   "outputs": [],
   "source": [
    "# Given exchange rate\n",
    "exchange_rate = 45\n"
   ]
  },
  {
   "cell_type": "code",
   "execution_count": 3,
   "id": "4f794f20",
   "metadata": {},
   "outputs": [],
   "source": [
    "# Parameters for Profit1 and Profit2\n",
    "mean_profit1 = 5 * exchange_rate\n",
    "std_deviation_profit1 = 3 * exchange_rate\n",
    "mean_profit2 = 7 * exchange_rate\n",
    "std_deviation_profit2 = 4 * exchange_rate"
   ]
  },
  {
   "cell_type": "code",
   "execution_count": 8,
   "id": "1897a0f4",
   "metadata": {},
   "outputs": [
    {
     "name": "stdout",
     "output_type": "stream",
     "text": [
      "A. Rupee Range (95% probability): 90.0 to 990.0\n"
     ]
    }
   ],
   "source": [
    "# A. Calculate the rupee range containing 95% probability for the annual profit of the company\n",
    "mean_total_profit = mean_profit1 + mean_profit2\n",
    "std_deviation_total_profit = (std_deviation_profit1**2 + std_deviation_profit2**2)**0.5\n",
    "lower_bound = mean_total_profit - 2 * std_deviation_total_profit\n",
    "upper_bound = mean_total_profit + 2 * std_deviation_total_profit\n",
    "\n",
    "print(\"A. Rupee Range (95% probability):\", lower_bound, \"to\", upper_bound)"
   ]
  },
  {
   "cell_type": "code",
   "execution_count": 9,
   "id": "fe5ab17c",
   "metadata": {},
   "outputs": [
    {
     "name": "stdout",
     "output_type": "stream",
     "text": [
      "B. 5th Percentile of Profit (in Rupees): 169.875\n"
     ]
    }
   ],
   "source": [
    "# B. Calculate the 5th percentile of profit for the company\n",
    "percentile_5 = mean_total_profit - 1.645 * std_deviation_total_profit\n",
    "print(\"B. 5th Percentile of Profit (in Rupees):\", percentile_5)"
   ]
  },
  {
   "cell_type": "code",
   "execution_count": 12,
   "id": "fa7912ae",
   "metadata": {},
   "outputs": [
    {
     "name": "stdout",
     "output_type": "stream",
     "text": [
      "C. Division 2 has a larger probability of making a loss.\n"
     ]
    }
   ],
   "source": [
    "prob_loss_profit1 = 1 - stats.norm.cdf(0, loc=mean_profit1, scale=std_deviation_profit1)\n",
    "prob_loss_profit2 = 1 - stats.norm.cdf(0, loc=mean_profit2, scale=std_deviation_profit2)\n",
    "\n",
    "if prob_loss_profit1 > prob_loss_profit2:\n",
    "    print(\"C. Division 1 has a larger probability of making a loss.\")\n",
    "elif prob_loss_profit2 > prob_loss_profit1:\n",
    "    print(\"C. Division 2 has a larger probability of making a loss.\")\n",
    "else:\n",
    "    print(\"C. Both divisions have the same probability of making a loss.\")\n"
   ]
  },
  {
   "cell_type": "markdown",
   "id": "4d02364b",
   "metadata": {},
   "source": [
    "# Therefore, Division 2 has a slightly larger probability of making a loss in a given year than Division 1."
   ]
  },
  {
   "cell_type": "code",
   "execution_count": null,
   "id": "9ba0c8f1",
   "metadata": {},
   "outputs": [],
   "source": []
  }
 ],
 "metadata": {
  "kernelspec": {
   "display_name": "Python 3 (ipykernel)",
   "language": "python",
   "name": "python3"
  },
  "language_info": {
   "codemirror_mode": {
    "name": "ipython",
    "version": 3
   },
   "file_extension": ".py",
   "mimetype": "text/x-python",
   "name": "python",
   "nbconvert_exporter": "python",
   "pygments_lexer": "ipython3",
   "version": "3.11.5"
  }
 },
 "nbformat": 4,
 "nbformat_minor": 5
}
