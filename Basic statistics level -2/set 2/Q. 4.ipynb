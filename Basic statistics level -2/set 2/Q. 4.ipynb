{
 "cells": [
  {
   "cell_type": "markdown",
   "id": "75e5f819",
   "metadata": {},
   "source": [
    "# 4.\tLet X ~ N(100, 202). Find two values, a and b, symmetric about the mean, such that the probability of the random variable taking a value between them is 0.99. \n",
    "\n",
    "A.\t90.5, 105.9 \n",
    "B.\t80.2, 119.8 \n",
    "C.\t22, 78 \n",
    "D.\t48.5, 151.5 \n",
    "E.\t90.1, 109.9\n"
   ]
  },
  {
   "cell_type": "code",
   "execution_count": 1,
   "id": "60e9fc5a",
   "metadata": {},
   "outputs": [],
   "source": [
    "import scipy.stats as stats"
   ]
  },
  {
   "cell_type": "code",
   "execution_count": 2,
   "id": "2bdc96e5",
   "metadata": {},
   "outputs": [],
   "source": [
    "# Given parameters\n",
    "mean = 100\n",
    "std_deviation = 20\n",
    "probability = 0.99"
   ]
  },
  {
   "cell_type": "code",
   "execution_count": 4,
   "id": "81551712",
   "metadata": {},
   "outputs": [],
   "source": [
    "# Calculate the values of a and b"
   ]
  },
  {
   "cell_type": "code",
   "execution_count": 3,
   "id": "633107a8",
   "metadata": {},
   "outputs": [
    {
     "name": "stdout",
     "output_type": "stream",
     "text": [
      "a: 48.48341392902199\n"
     ]
    }
   ],
   "source": [
    "a = stats.norm.ppf((1 - probability) / 2, loc=mean, scale=std_deviation)\n",
    "print(\"a:\", a)"
   ]
  },
  {
   "cell_type": "code",
   "execution_count": 5,
   "id": "dec2d87e",
   "metadata": {},
   "outputs": [
    {
     "name": "stdout",
     "output_type": "stream",
     "text": [
      "b: 151.516586070978\n"
     ]
    }
   ],
   "source": [
    "b = stats.norm.ppf(1 - (1 - probability) / 2, loc=mean, scale=std_deviation)\n",
    "print(\"b:\", b)"
   ]
  },
  {
   "cell_type": "markdown",
   "id": "487b560f",
   "metadata": {},
   "source": [
    "# so ,the values a and b that give a 0.99 probability of the random variable taking a value between them are approximately 48.48 and 151.52."
   ]
  },
  {
   "cell_type": "code",
   "execution_count": null,
   "id": "a5440d94",
   "metadata": {},
   "outputs": [],
   "source": []
  }
 ],
 "metadata": {
  "kernelspec": {
   "display_name": "Python 3 (ipykernel)",
   "language": "python",
   "name": "python3"
  },
  "language_info": {
   "codemirror_mode": {
    "name": "ipython",
    "version": 3
   },
   "file_extension": ".py",
   "mimetype": "text/x-python",
   "name": "python",
   "nbconvert_exporter": "python",
   "pygments_lexer": "ipython3",
   "version": "3.11.5"
  }
 },
 "nbformat": 4,
 "nbformat_minor": 5
}
