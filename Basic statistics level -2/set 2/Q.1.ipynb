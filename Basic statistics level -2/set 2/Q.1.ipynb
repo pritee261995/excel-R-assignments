{
 "cells": [
  {
   "cell_type": "markdown",
   "id": "a38e93d8",
   "metadata": {},
   "source": [
    "# Q1 The time required for servicing transmissions is normally distributed with  = 45 minutes and  = 8 minutes. The service manager plans to have work begin on the transmission of a customer’s car 10 minutes after the car is dropped off and the customer is told that the car will be ready within 1 hour from drop-off. What is the probability that the service manager cannot meet his commitment? \n",
    "\n",
    "A.\t0.3875   \n",
    "B.\t0.2676   \n",
    "C.\t0.5   \n",
    "D.\t0.6987 \n"
   ]
  },
  {
   "cell_type": "code",
   "execution_count": 9,
   "id": "14c5d085",
   "metadata": {},
   "outputs": [],
   "source": [
    "from scipy.stats import norm"
   ]
  },
  {
   "cell_type": "code",
   "execution_count": 10,
   "id": "81a397cb",
   "metadata": {},
   "outputs": [],
   "source": [
    "# Define the parameters of the normal distribution\n",
    "mean = 45  # Mean\n",
    "std_dev = 8  # Standard Deviation\n"
   ]
  },
  {
   "cell_type": "code",
   "execution_count": 11,
   "id": "0b59ebaa",
   "metadata": {},
   "outputs": [],
   "source": [
    "# Calculate the Z-score for X > 60\n",
    "z = (60 - mean) / std_dev\n"
   ]
  },
  {
   "cell_type": "code",
   "execution_count": 12,
   "id": "cd9c3f89",
   "metadata": {},
   "outputs": [],
   "source": [
    "# Calculate the probability using the cumulative distribution function (CDF)\n",
    "probability = 1 - norm.cdf(z)"
   ]
  },
  {
   "cell_type": "code",
   "execution_count": 13,
   "id": "b7a77bd6",
   "metadata": {},
   "outputs": [
    {
     "name": "stdout",
     "output_type": "stream",
     "text": [
      "The probability that the service manager cannot meet his commitment is: 0.030396361765261393\n"
     ]
    }
   ],
   "source": [
    "print(\"The probability that the service manager cannot meet his commitment is:\", probability)"
   ]
  }
 ],
 "metadata": {
  "kernelspec": {
   "display_name": "Python 3 (ipykernel)",
   "language": "python",
   "name": "python3"
  },
  "language_info": {
   "codemirror_mode": {
    "name": "ipython",
    "version": 3
   },
   "file_extension": ".py",
   "mimetype": "text/x-python",
   "name": "python",
   "nbconvert_exporter": "python",
   "pygments_lexer": "ipython3",
   "version": "3.11.5"
  }
 },
 "nbformat": 4,
 "nbformat_minor": 5
}
