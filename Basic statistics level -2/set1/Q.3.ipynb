{
 "cells": [
  {
   "cell_type": "markdown",
   "id": "0ba632c7",
   "metadata": {},
   "source": [
    "# Q3)\tAT&T was running commercials in 1990 aimed at luring back customers who had switched to one of the other long-distance phone service providers. One such commercial shows a businessman trying to reach Phoenix and mistakenly getting Fiji, where a half-naked native on a beach responds incomprehensibly in Polynesian. When asked about this advertisement, AT&T admitted that the portrayed incident did not actually take place but added that this was an enactment of something that “could happen.” Suppose that one in 200 long-distance telephone calls is misdirected. What is the probability that at least one in five attempted telephone calls reaches the wrong number? (Assume independence of attempts.)"
   ]
  },
  {
   "cell_type": "code",
   "execution_count": 1,
   "id": "78851bcf",
   "metadata": {},
   "outputs": [],
   "source": [
    "import numpy as np"
   ]
  },
  {
   "cell_type": "code",
   "execution_count": 2,
   "id": "790cbb02",
   "metadata": {},
   "outputs": [],
   "source": [
    "# Probability that a single call is misdirected\n",
    "p_misdirected = 1/200"
   ]
  },
  {
   "cell_type": "code",
   "execution_count": 3,
   "id": "0c2309d1",
   "metadata": {},
   "outputs": [],
   "source": [
    "# Probability that a single call is not misdirected\n",
    "p_not_misdirected = 1 - p_misdirected"
   ]
  },
  {
   "cell_type": "code",
   "execution_count": 4,
   "id": "25b004be",
   "metadata": {},
   "outputs": [],
   "source": [
    "# Number of attempts (in this case, 5)\n",
    "num_attempts = 5"
   ]
  },
  {
   "cell_type": "code",
   "execution_count": 5,
   "id": "f7113bbe",
   "metadata": {},
   "outputs": [],
   "source": [
    "# Probability that none of the calls are misdirected\n",
    "p_none_misdirected = (p_not_misdirected)**num_attempts"
   ]
  },
  {
   "cell_type": "code",
   "execution_count": 6,
   "id": "8bed8320",
   "metadata": {},
   "outputs": [],
   "source": [
    "# Probability that at least one call is misdirected\n",
    "p_at_least_one_misdirected = 1 - p_none_misdirected"
   ]
  },
  {
   "cell_type": "code",
   "execution_count": 7,
   "id": "c202cd6b",
   "metadata": {},
   "outputs": [
    {
     "name": "stdout",
     "output_type": "stream",
     "text": [
      "The probability that at least one in five calls is misdirected: 0.02475124687812502\n"
     ]
    }
   ],
   "source": [
    "print(\"The probability that at least one in five calls is misdirected:\", p_at_least_one_misdirected)"
   ]
  },
  {
   "cell_type": "code",
   "execution_count": null,
   "id": "7da0786f",
   "metadata": {},
   "outputs": [],
   "source": []
  }
 ],
 "metadata": {
  "kernelspec": {
   "display_name": "Python 3 (ipykernel)",
   "language": "python",
   "name": "python3"
  },
  "language_info": {
   "codemirror_mode": {
    "name": "ipython",
    "version": 3
   },
   "file_extension": ".py",
   "mimetype": "text/x-python",
   "name": "python",
   "nbconvert_exporter": "python",
   "pygments_lexer": "ipython3",
   "version": "3.11.5"
  }
 },
 "nbformat": 4,
 "nbformat_minor": 5
}
