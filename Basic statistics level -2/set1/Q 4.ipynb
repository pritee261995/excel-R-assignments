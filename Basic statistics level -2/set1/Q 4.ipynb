{
 "cells": [
  {
   "cell_type": "markdown",
   "id": "ab1ba601",
   "metadata": {},
   "source": [
    "# Q 4 Returns on a certain business venture, to the nearest $1,000, are known to follow the following probability distribution\n",
    "x\tP(x)\n",
    "-2,000\t0.1\n",
    "-1,000\t0.1\n",
    "0\t0.2\n",
    "1000\t0.2\n",
    "2000\t0.3\n",
    "3000\t0.1\n"
   ]
  },
  {
   "cell_type": "markdown",
   "id": "9bbf1aac",
   "metadata": {},
   "source": [
    "# (ii)Is the venture likely to be successful? Explain"
   ]
  },
  {
   "cell_type": "code",
   "execution_count": 1,
   "id": "f888bfb8",
   "metadata": {},
   "outputs": [
    {
     "name": "stdout",
     "output_type": "stream",
     "text": [
      "The expected value is: 800.0\n"
     ]
    }
   ],
   "source": [
    "# Define the values and probabilities\n",
    "values = [-2000, -1000, 0, 1000, 2000, 3000]\n",
    "probabilities = [0.1, 0.1, 0.2, 0.2, 0.3, 0.1]\n",
    "\n",
    "# Calculate the expected value\n",
    "expected_value = sum(x * p for x, p in zip(values, probabilities))\n",
    "\n",
    "print(f\"The expected value is: {expected_value}\")\n"
   ]
  },
  {
   "cell_type": "markdown",
   "id": "f541e9a8",
   "metadata": {},
   "source": [
    "# The average return of $800 indicates that, on average, the venture is expected to yield a positive return. However, the associated standard deviation of $1469.69 suggests a relatively high level of variability or risk in the returns."
   ]
  },
  {
   "cell_type": "markdown",
   "id": "fc29c48b",
   "metadata": {},
   "source": [
    "# Success in the context of this venture depends on the investor's risk tolerance and the specific goals of the investment. If the investor is risk-averse, the high variability in returns might be a concern, and the venture might be perceived as more speculative. On the other hand, if the investor is comfortable with higher levels of risk, the positive average return may be attractive."
   ]
  },
  {
   "cell_type": "markdown",
   "id": "659cc970",
   "metadata": {},
   "source": [
    "#  conclusion is the venture has the potential for success based on the positive expected value, but the high standard deviation indicates a notable level of risk. The determination of whether the venture is likely to be successful depends on the investor's risk appetite and their willingness to accept the associated variability in returns."
   ]
  },
  {
   "cell_type": "code",
   "execution_count": null,
   "id": "ee90dd16",
   "metadata": {},
   "outputs": [],
   "source": []
  },
  {
   "cell_type": "code",
   "execution_count": null,
   "id": "8ab76ec9",
   "metadata": {},
   "outputs": [],
   "source": []
  },
  {
   "cell_type": "code",
   "execution_count": null,
   "id": "18b23d75",
   "metadata": {},
   "outputs": [],
   "source": []
  },
  {
   "cell_type": "markdown",
   "id": "5cba644f",
   "metadata": {},
   "source": [
    "# (iv)What is the good measure of the risk involved in a venture of this kind? Compute this measure"
   ]
  },
  {
   "cell_type": "code",
   "execution_count": 3,
   "id": "9d4a7ba3",
   "metadata": {},
   "outputs": [],
   "source": [
    "import numpy as np\n",
    "\n",
    "# Define the values and probabilities\n",
    "values = [-2000, -1000, 0, 1000, 2000, 3000]\n",
    "probabilities = [0.1, 0.1, 0.2, 0.2, 0.3, 0.1]\n",
    "\n",
    "# Calculate the expected value\n",
    "expected_value = sum(x * p for x, p in zip(values, probabilities))"
   ]
  },
  {
   "cell_type": "code",
   "execution_count": 4,
   "id": "69e69a3a",
   "metadata": {},
   "outputs": [
    {
     "name": "stdout",
     "output_type": "stream",
     "text": [
      "The variance is: 2160000.0\n"
     ]
    }
   ],
   "source": [
    "# Calculate the variance\n",
    "variance = sum(p * (x - expected_value)**2 for x, p in zip(values, probabilities))\n",
    "\n",
    "# Print the calculated variance\n",
    "print(f\"The variance is: {variance}\")"
   ]
  },
  {
   "cell_type": "code",
   "execution_count": 5,
   "id": "8f45fa71",
   "metadata": {},
   "outputs": [
    {
     "name": "stdout",
     "output_type": "stream",
     "text": [
      "The standard deviation is: 1469.6938456699068\n"
     ]
    }
   ],
   "source": [
    "# Calculate the standard deviation\n",
    "std_deviation = np.sqrt(variance)\n",
    "\n",
    "print(f\"The standard deviation is: {std_deviation}\")"
   ]
  },
  {
   "cell_type": "code",
   "execution_count": 6,
   "id": "73741545",
   "metadata": {},
   "outputs": [
    {
     "name": "stdout",
     "output_type": "stream",
     "text": [
      "The average return is: 800.0\n"
     ]
    }
   ],
   "source": [
    "#standard deviation average\n",
    "print(f\"The average return is: {expected_value}\")"
   ]
  },
  {
   "cell_type": "markdown",
   "id": "c371e164",
   "metadata": {},
   "source": [
    "# A higher standard deviation generally indicates higher variability and, therefore, higher risk. The standard deviation gives you a sense of how much the actual returns might deviate from the average return"
   ]
  },
  {
   "cell_type": "markdown",
   "id": "2a864e8a",
   "metadata": {},
   "source": [
    "# the standard deviation is larger than the average return, it suggests a relatively high level of risk"
   ]
  },
  {
   "cell_type": "markdown",
   "id": "40b8bb20",
   "metadata": {},
   "source": [
    "# the high standard deviation indicates that the actual returns may vary substantially from the average return, making the venture more risky."
   ]
  },
  {
   "cell_type": "markdown",
   "id": "74a1c048",
   "metadata": {},
   "source": [
    "# based on the standard deviation and average return, it seems that the venture involves a significant level of risk."
   ]
  },
  {
   "cell_type": "code",
   "execution_count": null,
   "id": "fea87d51",
   "metadata": {},
   "outputs": [],
   "source": []
  }
 ],
 "metadata": {
  "kernelspec": {
   "display_name": "Python 3 (ipykernel)",
   "language": "python",
   "name": "python3"
  },
  "language_info": {
   "codemirror_mode": {
    "name": "ipython",
    "version": 3
   },
   "file_extension": ".py",
   "mimetype": "text/x-python",
   "name": "python",
   "nbconvert_exporter": "python",
   "pygments_lexer": "ipython3",
   "version": "3.11.5"
  }
 },
 "nbformat": 4,
 "nbformat_minor": 5
}
