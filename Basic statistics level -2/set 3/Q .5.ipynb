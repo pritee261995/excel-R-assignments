{
 "cells": [
  {
   "cell_type": "markdown",
   "id": "3ad40a65",
   "metadata": {},
   "source": [
    "# 5)\tIn January 2005, a company that monitors Internet traffic (WebSideStory) reported that its sampling revealed that the Mozilla Firefox browser launched in 2004 had grabbed a 4.6% share of the market.     1) If the sample were based on 2,000 users, could Microsoft conclude that Mozilla has a less than 5% share of the market?\n"
   ]
  },
  {
   "cell_type": "code",
   "execution_count": 1,
   "id": "87eb57b4",
   "metadata": {},
   "outputs": [],
   "source": [
    "import scipy.stats as stats\n"
   ]
  },
  {
   "cell_type": "code",
   "execution_count": 2,
   "id": "af39e7c2",
   "metadata": {},
   "outputs": [],
   "source": [
    "# Given data\n",
    "sample_proportion = 0.046  # 4.6% as a decimal\n",
    "population_proportion = 0.05  # 5% as a decimal\n",
    "sample_size = 2000\n"
   ]
  },
  {
   "cell_type": "code",
   "execution_count": 3,
   "id": "ee95d9aa",
   "metadata": {},
   "outputs": [],
   "source": [
    "# Calculate the standard error\n",
    "standard_error = ((population_proportion * (1 - population_proportion)) / sample_size) ** 0.5"
   ]
  },
  {
   "cell_type": "code",
   "execution_count": 4,
   "id": "46af7df2",
   "metadata": {},
   "outputs": [],
   "source": [
    "# Calculate the z-score\n",
    "z_score = (sample_proportion - population_proportion) / standard_error"
   ]
  },
  {
   "cell_type": "code",
   "execution_count": 5,
   "id": "98cd042c",
   "metadata": {},
   "outputs": [],
   "source": [
    "# Set the desired significance level (e.g., 0.05 for a 95% confidence level)\n",
    "alpha = 0.05"
   ]
  },
  {
   "cell_type": "code",
   "execution_count": 6,
   "id": "ae107298",
   "metadata": {},
   "outputs": [],
   "source": [
    "# Calculate the critical value for a one-tailed test (since you want to know if it's less than 5%)\n",
    "critical_value = stats.norm.ppf(alpha)"
   ]
  },
  {
   "cell_type": "code",
   "execution_count": 7,
   "id": "563c53d6",
   "metadata": {},
   "outputs": [
    {
     "name": "stdout",
     "output_type": "stream",
     "text": [
      "We fail to conclude that Mozilla's market share is less than 5%.\n"
     ]
    }
   ],
   "source": [
    "# Compare the z-score to the critical value\n",
    "if z_score < critical_value:\n",
    "    print(\"We can conclude that Mozilla's market share is less than 5%.\")\n",
    "else:\n",
    "    print(\"We fail to conclude that Mozilla's market share is less than 5%.\")"
   ]
  },
  {
   "cell_type": "code",
   "execution_count": null,
   "id": "f780b2c4",
   "metadata": {},
   "outputs": [],
   "source": []
  }
 ],
 "metadata": {
  "kernelspec": {
   "display_name": "Python 3 (ipykernel)",
   "language": "python",
   "name": "python3"
  },
  "language_info": {
   "codemirror_mode": {
    "name": "ipython",
    "version": 3
   },
   "file_extension": ".py",
   "mimetype": "text/x-python",
   "name": "python",
   "nbconvert_exporter": "python",
   "pygments_lexer": "ipython3",
   "version": "3.11.5"
  }
 },
 "nbformat": 4,
 "nbformat_minor": 5
}
