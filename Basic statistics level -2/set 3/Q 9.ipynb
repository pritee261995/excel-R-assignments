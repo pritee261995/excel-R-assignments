{
 "cells": [
  {
   "cell_type": "markdown",
   "id": "cd71ec9e",
   "metadata": {},
   "source": [
    "# Q 9.Suppose we want the above margin of error to be based on a 98% confidence level. What sample size (minimum) must we now use?\n",
    "\n",
    "A.\t1000\n",
    "B.\t757\n",
    "C.\t848\n",
    "D.\t543\n"
   ]
  },
  {
   "cell_type": "code",
   "execution_count": 1,
   "id": "9f55beae",
   "metadata": {},
   "outputs": [
    {
     "name": "stdout",
     "output_type": "stream",
     "text": [
      "The minimum number of employers to contact is: 849\n"
     ]
    }
   ],
   "source": [
    "import math\n",
    "\n",
    "# Define parameters\n",
    "confidence_level = 0.98\n",
    "margin_of_error = 0.04\n",
    "z_score = 2.33  # Z-score for 98% confidence level\n",
    "\n",
    "# Calculate the minimum sample size\n",
    "sample_size = math.ceil((z_score**2 * 0.25) / (margin_of_error**2))\n",
    "\n",
    "print(f\"The minimum number of employers to contact is: {sample_size}\")\n"
   ]
  },
  {
   "cell_type": "markdown",
   "id": "94f8d030",
   "metadata": {},
   "source": [
    "# the answer is C 849"
   ]
  },
  {
   "cell_type": "code",
   "execution_count": null,
   "id": "530ee2ae",
   "metadata": {},
   "outputs": [],
   "source": []
  },
  {
   "cell_type": "code",
   "execution_count": null,
   "id": "e6373d37",
   "metadata": {},
   "outputs": [],
   "source": []
  },
  {
   "cell_type": "code",
   "execution_count": null,
   "id": "48aa0471",
   "metadata": {},
   "outputs": [],
   "source": []
  },
  {
   "cell_type": "code",
   "execution_count": null,
   "id": "86c482f8",
   "metadata": {},
   "outputs": [],
   "source": []
  }
 ],
 "metadata": {
  "kernelspec": {
   "display_name": "Python 3 (ipykernel)",
   "language": "python",
   "name": "python3"
  },
  "language_info": {
   "codemirror_mode": {
    "name": "ipython",
    "version": 3
   },
   "file_extension": ".py",
   "mimetype": "text/x-python",
   "name": "python",
   "nbconvert_exporter": "python",
   "pygments_lexer": "ipython3",
   "version": "3.11.5"
  }
 },
 "nbformat": 4,
 "nbformat_minor": 5
}
