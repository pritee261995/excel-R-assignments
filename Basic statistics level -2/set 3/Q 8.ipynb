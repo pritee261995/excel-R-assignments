{
 "cells": [
  {
   "cell_type": "markdown",
   "id": "082ace4d",
   "metadata": {},
   "source": [
    "# Q  8.\tHow many randomly selected employers (minimum number) must we contact in order to guarantee a margin of error of no more than 4% (at 95% confidence)?\n",
    "\n",
    "A.\t600\n",
    "B.\t400\n",
    "C.\t550\n",
    "D.\t1000\n"
   ]
  },
  {
   "cell_type": "code",
   "execution_count": 1,
   "id": "dbee7edc",
   "metadata": {},
   "outputs": [
    {
     "name": "stdout",
     "output_type": "stream",
     "text": [
      "The minimum number of employers to contact is: 601\n"
     ]
    }
   ],
   "source": [
    "import math\n",
    "\n",
    "# Define parameters\n",
    "confidence_level = 0.95\n",
    "margin_of_error = 0.04\n",
    "z_score = 1.96  # Z-score for 95% confidence level\n",
    "\n",
    "# Calculate the minimum sample size\n",
    "sample_size = math.ceil((z_score**2 * 0.25) / (margin_of_error**2))\n",
    "\n",
    "print(f\"The minimum number of employers to contact is: {sample_size}\")\n"
   ]
  },
  {
   "cell_type": "code",
   "execution_count": null,
   "id": "9bbe85ec",
   "metadata": {},
   "outputs": [],
   "source": []
  },
  {
   "cell_type": "code",
   "execution_count": null,
   "id": "2a161b49",
   "metadata": {},
   "outputs": [],
   "source": []
  },
  {
   "cell_type": "code",
   "execution_count": null,
   "id": "7bf44efd",
   "metadata": {},
   "outputs": [],
   "source": []
  },
  {
   "cell_type": "code",
   "execution_count": null,
   "id": "c4adad96",
   "metadata": {},
   "outputs": [],
   "source": []
  },
  {
   "cell_type": "code",
   "execution_count": null,
   "id": "8c5ff476",
   "metadata": {},
   "outputs": [],
   "source": []
  }
 ],
 "metadata": {
  "kernelspec": {
   "display_name": "Python 3 (ipykernel)",
   "language": "python",
   "name": "python3"
  },
  "language_info": {
   "codemirror_mode": {
    "name": "ipython",
    "version": 3
   },
   "file_extension": ".py",
   "mimetype": "text/x-python",
   "name": "python",
   "nbconvert_exporter": "python",
   "pygments_lexer": "ipython3",
   "version": "3.11.5"
  }
 },
 "nbformat": 4,
 "nbformat_minor": 5
}
