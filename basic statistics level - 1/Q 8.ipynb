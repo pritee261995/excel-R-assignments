{
 "cells": [
  {
   "cell_type": "markdown",
   "id": "9880804f",
   "metadata": {},
   "source": [
    "# Q 8  Calculate Expected Value for the problem below a)\tThe weights (X) of patients at a clinic (in pounds), are108, 110, 123, 134, 135, 145, 167, 187, 199Assume one of the patients is chosen at random. What is the Expected Value of the Weight of that patient\n"
   ]
  },
  {
   "cell_type": "code",
   "execution_count": 1,
   "id": "43b2bcfb",
   "metadata": {},
   "outputs": [
    {
     "name": "stdout",
     "output_type": "stream",
     "text": [
      "The Expected Value of the Weight is: 145.33 pounds\n"
     ]
    }
   ],
   "source": [
    "# Given data\n",
    "weights = [108, 110, 123, 134, 135, 145, 167, 187, 199]\n",
    "\n",
    "# Calculate the expected value\n",
    "expected_value = sum(weights) / len(weights)\n",
    "\n",
    "# Print the result\n",
    "print(f\"The Expected Value of the Weight is: {expected_value:.2f} pounds\")\n"
   ]
  },
  {
   "cell_type": "code",
   "execution_count": null,
   "id": "5b0cd406",
   "metadata": {},
   "outputs": [],
   "source": []
  }
 ],
 "metadata": {
  "kernelspec": {
   "display_name": "Python 3 (ipykernel)",
   "language": "python",
   "name": "python3"
  },
  "language_info": {
   "codemirror_mode": {
    "name": "ipython",
    "version": 3
   },
   "file_extension": ".py",
   "mimetype": "text/x-python",
   "name": "python",
   "nbconvert_exporter": "python",
   "pygments_lexer": "ipython3",
   "version": "3.11.5"
  }
 },
 "nbformat": 4,
 "nbformat_minor": 5
}
