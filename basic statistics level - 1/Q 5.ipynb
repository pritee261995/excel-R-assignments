{
 "cells": [
  {
   "cell_type": "markdown",
   "id": "1d88281d",
   "metadata": {},
   "source": [
    "# Q5) A bag contains 2 red, 3 green and 2 blue balls. Two balls are drawn at random. What is the probability that none of the balls drawn is blue?"
   ]
  },
  {
   "cell_type": "code",
   "execution_count": 1,
   "id": "d4cb9ddf",
   "metadata": {},
   "outputs": [],
   "source": [
    "from itertools import combinations"
   ]
  },
  {
   "cell_type": "code",
   "execution_count": 2,
   "id": "f06b3634",
   "metadata": {},
   "outputs": [],
   "source": [
    "# Number of each color of balls in the bag\n",
    "red_balls = 2\n",
    "green_balls = 3\n",
    "blue_balls = 2"
   ]
  },
  {
   "cell_type": "code",
   "execution_count": 3,
   "id": "70e56615",
   "metadata": {},
   "outputs": [],
   "source": [
    "# Total number of balls in the bag\n",
    "total_balls = red_balls + green_balls + blue_balls\n"
   ]
  },
  {
   "cell_type": "code",
   "execution_count": 4,
   "id": "cc7c17e2",
   "metadata": {},
   "outputs": [],
   "source": [
    "# Number of balls to be drawn\n",
    "balls_to_draw = 2"
   ]
  },
  {
   "cell_type": "code",
   "execution_count": 5,
   "id": "8ad2b0f6",
   "metadata": {},
   "outputs": [],
   "source": [
    "# Possible outcomes when drawing two balls\n",
    "all_outcomes = list(combinations(range(1, total_balls + 1), balls_to_draw))\n"
   ]
  },
  {
   "cell_type": "code",
   "execution_count": 6,
   "id": "1be50067",
   "metadata": {},
   "outputs": [],
   "source": [
    "# Favorable outcomes (none of the balls drawn is blue)\n",
    "favorable_outcomes = [outcome for outcome in all_outcomes if all(ball <= red_balls + green_balls for ball in outcome)]\n"
   ]
  },
  {
   "cell_type": "code",
   "execution_count": 7,
   "id": "748c3a7d",
   "metadata": {},
   "outputs": [],
   "source": [
    "# Probability calculation\n",
    "probability_none_blue = len(favorable_outcomes) / len(all_outcomes)\n"
   ]
  },
  {
   "cell_type": "code",
   "execution_count": 8,
   "id": "baf7e9a0",
   "metadata": {},
   "outputs": [
    {
     "name": "stdout",
     "output_type": "stream",
     "text": [
      "Probability that none of the balls drawn is blue: 0.4762\n"
     ]
    }
   ],
   "source": [
    "# Print the result\n",
    "print(f\"Probability that none of the balls drawn is blue: {probability_none_blue:.4f}\")\n"
   ]
  },
  {
   "cell_type": "code",
   "execution_count": null,
   "id": "6afa28af",
   "metadata": {},
   "outputs": [],
   "source": []
  }
 ],
 "metadata": {
  "kernelspec": {
   "display_name": "Python 3 (ipykernel)",
   "language": "python",
   "name": "python3"
  },
  "language_info": {
   "codemirror_mode": {
    "name": "ipython",
    "version": 3
   },
   "file_extension": ".py",
   "mimetype": "text/x-python",
   "name": "python",
   "nbconvert_exporter": "python",
   "pygments_lexer": "ipython3",
   "version": "3.11.5"
  }
 },
 "nbformat": 4,
 "nbformat_minor": 5
}
