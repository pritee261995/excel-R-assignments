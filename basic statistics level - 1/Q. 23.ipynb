{
 "cells": [
  {
   "cell_type": "markdown",
   "id": "cf21fcfe",
   "metadata": {},
   "source": [
    "# Q 23) Calculate the t scores of 95% confidence interval, 96% confidence interval, 99% confidence interval for sample size of 25"
   ]
  },
  {
   "cell_type": "code",
   "execution_count": 1,
   "id": "ab3c8f9d",
   "metadata": {},
   "outputs": [],
   "source": [
    "from scipy.stats import t"
   ]
  },
  {
   "cell_type": "code",
   "execution_count": 2,
   "id": "b406a250",
   "metadata": {},
   "outputs": [],
   "source": [
    "# Sample size\n",
    "sample_size = 25\n"
   ]
  },
  {
   "cell_type": "code",
   "execution_count": 3,
   "id": "34be5c76",
   "metadata": {},
   "outputs": [],
   "source": [
    "# Confidence levels\n",
    "confidence_levels = [0.95, 0.96, 0.99]\n",
    "alpha_values = [(1 - cl) / 2 for cl in confidence_levels]"
   ]
  },
  {
   "cell_type": "code",
   "execution_count": 4,
   "id": "44e96844",
   "metadata": {},
   "outputs": [],
   "source": [
    "# Degrees of freedom (for a sample size of 25)\n",
    "degrees_of_freedom = sample_size - 1"
   ]
  },
  {
   "cell_type": "code",
   "execution_count": 5,
   "id": "83727ff8",
   "metadata": {},
   "outputs": [],
   "source": [
    "# Calculate t-scores for each confidence level\n",
    "t_scores = [t.ppf(1 - alpha, degrees_of_freedom) for alpha in alpha_values]"
   ]
  },
  {
   "cell_type": "code",
   "execution_count": 12,
   "id": "02e5c360",
   "metadata": {},
   "outputs": [
    {
     "name": "stdout",
     "output_type": "stream",
     "text": [
      "95% Confidence Interval t-Score: 2.064\n",
      "96% Confidence Interval t-Score: 2.172\n",
      "99% Confidence Interval t-Score: 2.797\n"
     ]
    }
   ],
   "source": [
    "# Calculate t-scores for each confidence level\n",
    "for cl, t_score in zip(confidence_levels, t_scores):\n",
    "    print(f\"{int(cl * 100)}% Confidence Interval t-Score: {t_score:.3f}\")\n"
   ]
  },
  {
   "cell_type": "code",
   "execution_count": null,
   "id": "0a006e90",
   "metadata": {},
   "outputs": [],
   "source": []
  }
 ],
 "metadata": {
  "kernelspec": {
   "display_name": "Python 3 (ipykernel)",
   "language": "python",
   "name": "python3"
  },
  "language_info": {
   "codemirror_mode": {
    "name": "ipython",
    "version": 3
   },
   "file_extension": ".py",
   "mimetype": "text/x-python",
   "name": "python",
   "nbconvert_exporter": "python",
   "pygments_lexer": "ipython3",
   "version": "3.11.5"
  }
 },
 "nbformat": 4,
 "nbformat_minor": 5
}
