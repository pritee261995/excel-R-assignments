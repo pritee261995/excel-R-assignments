{
 "cells": [
  {
   "cell_type": "markdown",
   "id": "cc7c935c",
   "metadata": {},
   "source": [
    "# Q 22) Calculate the Z scores of 90% confidence interval,94% confidence interval, 60% confidence interval "
   ]
  },
  {
   "cell_type": "code",
   "execution_count": 1,
   "id": "c7ab1d81",
   "metadata": {},
   "outputs": [],
   "source": [
    "from scipy.stats import norm"
   ]
  },
  {
   "cell_type": "code",
   "execution_count": 2,
   "id": "eee92396",
   "metadata": {},
   "outputs": [],
   "source": [
    "# Confidence level and significance level (alpha)\n",
    "confidence_levels = [0.90, 0.94, 0.60]\n",
    "alpha_values = [(1 - cl) / 2 for cl in confidence_levels]"
   ]
  },
  {
   "cell_type": "code",
   "execution_count": 3,
   "id": "f195dcb1",
   "metadata": {},
   "outputs": [],
   "source": [
    "# Calculate Z-scores for each confidence level\n",
    "z_scores = [norm.ppf(1 - alpha) for alpha in alpha_values]\n"
   ]
  },
  {
   "cell_type": "code",
   "execution_count": 4,
   "id": "99b19d24",
   "metadata": {},
   "outputs": [
    {
     "name": "stdout",
     "output_type": "stream",
     "text": [
      "90% Confidence Interval Z-Score: 1.64\n",
      "94% Confidence Interval Z-Score: 1.88\n",
      "60% Confidence Interval Z-Score: 0.84\n"
     ]
    }
   ],
   "source": [
    "# Print the Z-scores\n",
    "for cl, z in zip(confidence_levels, z_scores):\n",
    "    print(f\"{int(cl * 100)}% Confidence Interval Z-Score: {z:.2f}\")"
   ]
  },
  {
   "cell_type": "code",
   "execution_count": null,
   "id": "ae232751",
   "metadata": {},
   "outputs": [],
   "source": []
  }
 ],
 "metadata": {
  "kernelspec": {
   "display_name": "Python 3 (ipykernel)",
   "language": "python",
   "name": "python3"
  },
  "language_info": {
   "codemirror_mode": {
    "name": "ipython",
    "version": 3
   },
   "file_extension": ".py",
   "mimetype": "text/x-python",
   "name": "python",
   "nbconvert_exporter": "python",
   "pygments_lexer": "ipython3",
   "version": "3.11.5"
  }
 },
 "nbformat": 4,
 "nbformat_minor": 5
}
