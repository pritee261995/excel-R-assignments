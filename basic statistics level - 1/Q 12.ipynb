{
 "cells": [
  {
   "cell_type": "markdown",
   "id": "d2010ce5",
   "metadata": {},
   "source": [
    "# Q 12 ) Below are the scores obtained by a student in tests  34,36,36,38,38,39,39,40,40,41,41,41,41,42,42,45,49,561)\tFind mean, median, variance, standard deviation.\n"
   ]
  },
  {
   "cell_type": "code",
   "execution_count": 1,
   "id": "5ae4d734",
   "metadata": {},
   "outputs": [],
   "source": [
    "import numpy as np\n",
    "from statistics import mean, median, variance, stdev\n"
   ]
  },
  {
   "cell_type": "code",
   "execution_count": 2,
   "id": "2127ed4c",
   "metadata": {},
   "outputs": [],
   "source": [
    "# Given data\n",
    "scores = [34, 36, 36, 38, 38, 39, 39, 40, 40, 41, 41, 41, 41, 42, 42, 45, 49, 56]\n",
    "\n"
   ]
  },
  {
   "cell_type": "code",
   "execution_count": 3,
   "id": "093bb7bc",
   "metadata": {},
   "outputs": [],
   "source": [
    "# Calculate mean, median, variance, and standard deviation using NumPy and statistics\n",
    "mean_score = np.mean(scores)\n",
    "median_score = median(scores)\n",
    "variance_score = variance(scores)\n",
    "std_dev_score = stdev(scores)"
   ]
  },
  {
   "cell_type": "code",
   "execution_count": 4,
   "id": "52b9481e",
   "metadata": {},
   "outputs": [
    {
     "name": "stdout",
     "output_type": "stream",
     "text": [
      "Mean: 41.00\n",
      "Median: 40.5\n",
      "Variance: 25.53\n",
      "Standard Deviation: 5.05\n"
     ]
    }
   ],
   "source": [
    "# Print the results\n",
    "print(f\"Mean: {mean_score:.2f}\")\n",
    "print(f\"Median: {median_score}\")\n",
    "print(f\"Variance: {variance_score:.2f}\")\n",
    "print(f\"Standard Deviation: {std_dev_score:.2f}\")\n"
   ]
  },
  {
   "cell_type": "code",
   "execution_count": null,
   "id": "c9335c21",
   "metadata": {},
   "outputs": [],
   "source": []
  },
  {
   "cell_type": "code",
   "execution_count": null,
   "id": "e5a1736f",
   "metadata": {},
   "outputs": [],
   "source": []
  }
 ],
 "metadata": {
  "kernelspec": {
   "display_name": "Python 3 (ipykernel)",
   "language": "python",
   "name": "python3"
  },
  "language_info": {
   "codemirror_mode": {
    "name": "ipython",
    "version": 3
   },
   "file_extension": ".py",
   "mimetype": "text/x-python",
   "name": "python",
   "nbconvert_exporter": "python",
   "pygments_lexer": "ipython3",
   "version": "3.11.5"
  }
 },
 "nbformat": 4,
 "nbformat_minor": 5
}
