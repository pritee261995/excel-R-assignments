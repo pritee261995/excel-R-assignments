{
 "cells": [
  {
   "cell_type": "markdown",
   "id": "5ef2ad59",
   "metadata": {},
   "source": [
    "# Q11) Suppose we want to estimate the average weight of an adult male in    Mexico. We draw a random sample of 2,000 men from a population of 3,000,000 men and weigh them. We find that the average person in our sample weighs 200 pounds, and the standard deviation of the sample is 30 pounds. Calculate 94%,98%,96% confidence interval?"
   ]
  },
  {
   "cell_type": "code",
   "execution_count": 10,
   "id": "8cf1cf1c",
   "metadata": {},
   "outputs": [
    {
     "name": "stdout",
     "output_type": "stream",
     "text": [
      "94% Confidence Interval: [198.74, 201.26] pounds\n",
      "96% Confidence Interval: [198.62, 201.38] pounds\n",
      "98% Confidence Interval: [198.44, 201.56] pounds\n"
     ]
    }
   ],
   "source": [
    "import scipy.stats as stats\n",
    "import math\n",
    "\n",
    "# Given data\n",
    "sample_mean = 200  # Sample mean weight\n",
    "sample_std_dev = 30  # Standard deviation of the sample\n",
    "sample_size = 2000  # Sample size\n",
    "\n",
    "# Confidence levels\n",
    "confidence_levels = [0.94, 0.96, 0.98]\n",
    "\n",
    "# Calculate confidence intervals\n",
    "for confidence_level in confidence_levels:\n",
    "    # Calculate the critical value (Z-score) based on the confidence level\n",
    "    z_score = stats.norm.ppf((1 + confidence_level) / 2)\n",
    "\n",
    "    # Calculate the margin of error\n",
    "    margin_of_error = z_score * (sample_std_dev / math.sqrt(sample_size))\n",
    "\n",
    "    # Calculate the confidence interval\n",
    "    lower_bound = sample_mean - margin_of_error\n",
    "    upper_bound = sample_mean + margin_of_error\n",
    "\n",
    "    # Print the result\n",
    "    print(f\"{confidence_level * 100:.0f}% Confidence Interval: [{lower_bound:.2f}, {upper_bound:.2f}] pounds\")\n"
   ]
  },
  {
   "cell_type": "code",
   "execution_count": null,
   "id": "ab929390",
   "metadata": {},
   "outputs": [],
   "source": []
  },
  {
   "cell_type": "code",
   "execution_count": null,
   "id": "432a6ea0",
   "metadata": {},
   "outputs": [],
   "source": []
  },
  {
   "cell_type": "code",
   "execution_count": null,
   "id": "beb063cf",
   "metadata": {},
   "outputs": [],
   "source": []
  }
 ],
 "metadata": {
  "kernelspec": {
   "display_name": "Python 3 (ipykernel)",
   "language": "python",
   "name": "python3"
  },
  "language_info": {
   "codemirror_mode": {
    "name": "ipython",
    "version": 3
   },
   "file_extension": ".py",
   "mimetype": "text/x-python",
   "name": "python",
   "nbconvert_exporter": "python",
   "pygments_lexer": "ipython3",
   "version": "3.11.5"
  }
 },
 "nbformat": 4,
 "nbformat_minor": 5
}
