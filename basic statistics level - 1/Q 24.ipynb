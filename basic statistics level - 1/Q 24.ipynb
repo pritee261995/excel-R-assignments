{
 "cells": [
  {
   "cell_type": "markdown",
   "id": "0b360809",
   "metadata": {},
   "source": [
    "# Q 24)A Government company claims that an average light bulb lasts 270 days. A researcher randomly selects 18 bulbs for testing. The sampled bulbs last an average of 260 days, with a standard deviation of 90 days. If the CEO's claim were true, what is the probability that 18 randomly selected bulbs would have an average life of no more than 260 days\n",
    "  Hint:  \n",
    "   rcode   pt(tscore,df)  \n",
    " df  degrees of freedom\n",
    "\n",
    "   \n"
   ]
  },
  {
   "cell_type": "code",
   "execution_count": 8,
   "id": "8be970a4",
   "metadata": {},
   "outputs": [],
   "source": [
    "import scipy.stats as stats"
   ]
  },
  {
   "cell_type": "code",
   "execution_count": 4,
   "id": "a422e9c0",
   "metadata": {},
   "outputs": [],
   "source": [
    "# Given data\n",
    "sample_mean = 260\n",
    "population_mean = 270\n",
    "sample_sd = 90\n",
    "sample_size = 18"
   ]
  },
  {
   "cell_type": "code",
   "execution_count": 5,
   "id": "787623a3",
   "metadata": {},
   "outputs": [],
   "source": [
    "# Calculate the t-score\n",
    "t_score = (sample_mean - population_mean) / (sample_sd / (sample_size ** 0.5))\n"
   ]
  },
  {
   "cell_type": "code",
   "execution_count": 6,
   "id": "b6ed7368",
   "metadata": {},
   "outputs": [],
   "source": [
    "# Degrees of freedom\n",
    "df = sample_size - 1"
   ]
  },
  {
   "cell_type": "code",
   "execution_count": 9,
   "id": "01fe05aa",
   "metadata": {},
   "outputs": [],
   "source": [
    "# Calculate the probability using the t-distribution\n",
    "probability = stats.t.cdf(t_score, df)"
   ]
  },
  {
   "cell_type": "code",
   "execution_count": 10,
   "id": "a94e7518",
   "metadata": {},
   "outputs": [
    {
     "name": "stdout",
     "output_type": "stream",
     "text": [
      "Probability: 0.32167253567098364\n"
     ]
    }
   ],
   "source": [
    "# Print the result\n",
    "print(\"Probability:\", probability)"
   ]
  },
  {
   "cell_type": "code",
   "execution_count": null,
   "id": "c91c39cd",
   "metadata": {},
   "outputs": [],
   "source": []
  }
 ],
 "metadata": {
  "kernelspec": {
   "display_name": "Python 3 (ipykernel)",
   "language": "python",
   "name": "python3"
  },
  "language_info": {
   "codemirror_mode": {
    "name": "ipython",
    "version": 3
   },
   "file_extension": ".py",
   "mimetype": "text/x-python",
   "name": "python",
   "nbconvert_exporter": "python",
   "pygments_lexer": "ipython3",
   "version": "3.11.5"
  }
 },
 "nbformat": 4,
 "nbformat_minor": 5
}
