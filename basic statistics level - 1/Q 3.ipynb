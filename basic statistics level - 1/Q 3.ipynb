{
 "cells": [
  {
   "cell_type": "markdown",
   "id": "c9a98d4c",
   "metadata": {},
   "source": [
    "# Q3) Three Coins are tossed, find the probability that two heads and one tail are obtained?"
   ]
  },
  {
   "cell_type": "code",
   "execution_count": 1,
   "id": "9d89b050",
   "metadata": {},
   "outputs": [],
   "source": [
    "from itertools import product"
   ]
  },
  {
   "cell_type": "code",
   "execution_count": 2,
   "id": "0aba2768",
   "metadata": {},
   "outputs": [],
   "source": [
    "# Possible outcomes when tossing three coins\n",
    "outcomes = list(product(['H', 'T'], repeat=3))\n"
   ]
  },
  {
   "cell_type": "code",
   "execution_count": 3,
   "id": "82a9c1ca",
   "metadata": {},
   "outputs": [],
   "source": [
    "# Favorable outcomes (two heads and one tail)\n",
    "favorable_outcomes = [outcome for outcome in outcomes if outcome.count('H') == 2 and outcome.count('T') == 1]\n"
   ]
  },
  {
   "cell_type": "code",
   "execution_count": 4,
   "id": "dcea01e3",
   "metadata": {},
   "outputs": [],
   "source": [
    "# Probability calculation\n",
    "probability_two_heads_one_tail = len(favorable_outcomes) / len(outcomes)\n"
   ]
  },
  {
   "cell_type": "code",
   "execution_count": 5,
   "id": "4da6c95d",
   "metadata": {},
   "outputs": [
    {
     "name": "stdout",
     "output_type": "stream",
     "text": [
      "Probability of getting two heads and one tail: 0.3750\n"
     ]
    }
   ],
   "source": [
    "\n",
    "# Print the result\n",
    "print(f\"Probability of getting two heads and one tail: {probability_two_heads_one_tail:.4f}\")\n"
   ]
  },
  {
   "cell_type": "code",
   "execution_count": null,
   "id": "7d36d7c9",
   "metadata": {},
   "outputs": [],
   "source": []
  }
 ],
 "metadata": {
  "kernelspec": {
   "display_name": "Python 3 (ipykernel)",
   "language": "python",
   "name": "python3"
  },
  "language_info": {
   "codemirror_mode": {
    "name": "ipython",
    "version": 3
   },
   "file_extension": ".py",
   "mimetype": "text/x-python",
   "name": "python",
   "nbconvert_exporter": "python",
   "pygments_lexer": "ipython3",
   "version": "3.11.5"
  }
 },
 "nbformat": 4,
 "nbformat_minor": 5
}
