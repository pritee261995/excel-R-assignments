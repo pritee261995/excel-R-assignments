{
 "cells": [
  {
   "cell_type": "markdown",
   "id": "4eb11ed5",
   "metadata": {},
   "source": [
    "# Q4) Two Dice are rolled, find the probability that sum is a)\tEqual to 1 b)\tLess than or equal to 4 c)\tSum is divisible by 2 and 3\n"
   ]
  },
  {
   "cell_type": "code",
   "execution_count": 1,
   "id": "d37bee2d",
   "metadata": {},
   "outputs": [],
   "source": [
    "from itertools import product"
   ]
  },
  {
   "cell_type": "code",
   "execution_count": 2,
   "id": "6e0ddf9d",
   "metadata": {},
   "outputs": [],
   "source": [
    "# Possible outcomes when rolling two dice\n",
    "outcomes = list(product(range(1, 7), repeat=2))\n"
   ]
  },
  {
   "cell_type": "code",
   "execution_count": 3,
   "id": "0836e8b4",
   "metadata": {},
   "outputs": [],
   "source": [
    "# Function to calculate probability\n",
    "def calculate_probability(condition):\n",
    "    favorable_outcomes = [outcome for outcome in outcomes if condition(outcome)]\n",
    "    probability = len(favorable_outcomes) / len(outcomes)\n",
    "    return probability\n"
   ]
  },
  {
   "cell_type": "code",
   "execution_count": 4,
   "id": "d90655b2",
   "metadata": {},
   "outputs": [],
   "source": [
    "# a) Probability that sum is equal to 1\n",
    "prob_equal_to_1 = calculate_probability(lambda outcome: sum(outcome) == 1)\n"
   ]
  },
  {
   "cell_type": "code",
   "execution_count": 5,
   "id": "f7ee8634",
   "metadata": {},
   "outputs": [],
   "source": [
    "# b) Probability that sum is less than or equal to 4\n",
    "prob_less_than_or_equal_to_4 = calculate_probability(lambda outcome: sum(outcome) <= 4)"
   ]
  },
  {
   "cell_type": "code",
   "execution_count": 6,
   "id": "dd5e7f9e",
   "metadata": {},
   "outputs": [],
   "source": [
    "# c) Probability that sum is divisible by 2 and 3\n",
    "prob_divisible_by_2_and_3 = calculate_probability(lambda outcome: sum(outcome) % 6 == 0)\n"
   ]
  },
  {
   "cell_type": "code",
   "execution_count": 7,
   "id": "6d9cded6",
   "metadata": {},
   "outputs": [
    {
     "name": "stdout",
     "output_type": "stream",
     "text": [
      "a) Probability that sum is equal to 1: 0.0000\n",
      "b) Probability that sum is less than or equal to 4: 0.1667\n",
      "c) Probability that sum is divisible by 2 and 3: 0.1667\n"
     ]
    }
   ],
   "source": [
    "\n",
    "# Print the results\n",
    "print(f\"a) Probability that sum is equal to 1: {prob_equal_to_1:.4f}\")\n",
    "print(f\"b) Probability that sum is less than or equal to 4: {prob_less_than_or_equal_to_4:.4f}\")\n",
    "print(f\"c) Probability that sum is divisible by 2 and 3: {prob_divisible_by_2_and_3:.4f}\")\n"
   ]
  },
  {
   "cell_type": "code",
   "execution_count": null,
   "id": "e3a97ff5",
   "metadata": {},
   "outputs": [],
   "source": []
  }
 ],
 "metadata": {
  "kernelspec": {
   "display_name": "Python 3 (ipykernel)",
   "language": "python",
   "name": "python3"
  },
  "language_info": {
   "codemirror_mode": {
    "name": "ipython",
    "version": 3
   },
   "file_extension": ".py",
   "mimetype": "text/x-python",
   "name": "python",
   "nbconvert_exporter": "python",
   "pygments_lexer": "ipython3",
   "version": "3.11.5"
  }
 },
 "nbformat": 4,
 "nbformat_minor": 5
}
